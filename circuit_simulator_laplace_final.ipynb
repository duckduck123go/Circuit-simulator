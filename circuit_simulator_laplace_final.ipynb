{
  "cells": [
    {
      "cell_type": "markdown",
      "metadata": {
        "id": "view-in-github",
        "colab_type": "text"
      },
      "source": [
        "<a href=\"https://colab.research.google.com/github/duckduck123go/Circuit-simulator/blob/main/circuit_simulator_laplace_final.ipynb\" target=\"_parent\"><img src=\"https://colab.research.google.com/assets/colab-badge.svg\" alt=\"Open In Colab\"/></a>"
      ]
    },
    {
      "cell_type": "code",
      "execution_count": null,
      "id": "4be8d2a9-721e-4571-88d1-7d7fedb6765d",
      "metadata": {
        "id": "4be8d2a9-721e-4571-88d1-7d7fedb6765d"
      },
      "outputs": [],
      "source": [
        "import tkinter as tk\n",
        "from tkinter import messagebox, ttk\n",
        "import numpy as np\n",
        "from sympy import symbols, Matrix, simplify, inverse_laplace_transform\n",
        "import matplotlib.pyplot as plt"
      ]
    },
    {
      "cell_type": "code",
      "execution_count": null,
      "id": "a413a926-6cd8-49a4-a16b-beed08d9c208",
      "metadata": {
        "id": "a413a926-6cd8-49a4-a16b-beed08d9c208"
      },
      "outputs": [],
      "source": [
        "components = []  # List to store components and their connections\n",
        "voltage_source = None  # Store the voltage source and its nodes"
      ]
    },
    {
      "cell_type": "code",
      "execution_count": null,
      "id": "8f2e8983-9680-403c-94d0-3f4695f84f34",
      "metadata": {
        "id": "8f2e8983-9680-403c-94d0-3f4695f84f34"
      },
      "outputs": [],
      "source": [
        "# Laplace variable\n",
        "s = symbols('s')\n",
        "\n",
        "def add_component():\n",
        "    \"\"\"Add a component to the circuit.\"\"\"\n",
        "    try:\n",
        "        comp_type = component_type_var.get()\n",
        "        comp_value = float(component_value_var.get())\n",
        "        node_start = int(start_node_var.get())\n",
        "        node_end = int(end_node_var.get())\n",
        "\n",
        "        if node_start < 1 or node_end < 1 or node_start == node_end:\n",
        "            messagebox.showerror(\"Error\", \"Invalid node numbers.\")\n",
        "            return\n",
        "\n",
        "        components.append((comp_type, comp_value, node_start, node_end))\n",
        "        update_component_list()\n",
        "    except ValueError:\n",
        "        messagebox.showerror(\"Error\", \"Invalid component value.\")"
      ]
    },
    {
      "cell_type": "code",
      "execution_count": null,
      "id": "475f2850-d3d1-4597-be8a-579f796ec7de",
      "metadata": {
        "id": "475f2850-d3d1-4597-be8a-579f796ec7de"
      },
      "outputs": [],
      "source": [
        "def update_component_list():\n",
        "    \"\"\"Update the component listbox.\"\"\"\n",
        "    component_listbox.delete(0, tk.END)\n",
        "    for i, (comp_type, comp_value, node_start, node_end) in enumerate(components):\n",
        "        component_listbox.insert(\n",
        "            tk.END,\n",
        "            f\"{i + 1}. {comp_type} = {comp_value}, Nodes {node_start} to {node_end}\"\n",
        "        )"
      ]
    },
    {
      "cell_type": "code",
      "execution_count": null,
      "id": "b5286d5d-dabb-43d6-9779-6ab6489fde4d",
      "metadata": {
        "id": "b5286d5d-dabb-43d6-9779-6ab6489fde4d"
      },
      "outputs": [],
      "source": [
        "def set_voltage_source():\n",
        "    \"\"\"Set the voltage source.\"\"\"\n",
        "    try:\n",
        "        positive_node = int(entry_positive_voltage_node.get())\n",
        "        negative_node = int(entry_negative_voltage_node.get())\n",
        "        voltage_value = float(entry_voltage_value.get())\n",
        "        global voltage_source\n",
        "        voltage_source = (positive_node, negative_node, voltage_value)\n",
        "        messagebox.showinfo(\"Voltage Source\", \"Voltage source set.\")\n",
        "    except ValueError:\n",
        "        messagebox.showerror(\"Error\", \"Invalid voltage source input.\")"
      ]
    },
    {
      "cell_type": "code",
      "execution_count": null,
      "id": "609e1787-1449-415a-a32f-ddecbc37fc89",
      "metadata": {
        "id": "609e1787-1449-415a-a32f-ddecbc37fc89"
      },
      "outputs": [],
      "source": [
        "def solve_laplace():\n",
        "    \"\"\"Solve the circuit using Laplace Transform-based nodal analysis.\"\"\"\n",
        "    try:\n",
        "        if not voltage_source:\n",
        "            raise ValueError(\"Voltage source not defined.\")\n",
        "\n",
        "        if not components:\n",
        "            raise ValueError(\"No components added.\")\n",
        "\n",
        "        # Extract all unique nodes\n",
        "        nodes = sorted(set(n for _, _, n1, n2 in components for n in (n1, n2)))\n",
        "        node_count = len(nodes) - 1  # Exclude ground node (node 0)\n",
        "\n",
        "        # Map nodes to indices\n",
        "        node_map = {n: i for i, n in enumerate(nodes)}\n",
        "\n",
        "        # Initialize admittance matrix and current vector\n",
        "        Y = np.zeros((node_count, node_count), dtype=object)\n",
        "        I = np.zeros(node_count, dtype=object)\n",
        "\n",
        "        # Populate admittance matrix\n",
        "        for comp_type, value, n1, n2 in components:\n",
        "            n1_idx = node_map[n1] - 1 if n1 != 0 else None\n",
        "            n2_idx = node_map[n2] - 1 if n2 != 0 else None\n",
        "\n",
        "            # Calculate admittance\n",
        "            if comp_type == \"Resistor\":\n",
        "                admittance = 1 / value\n",
        "            elif comp_type == \"Inductor\":\n",
        "                admittance = 1 / (s * value)\n",
        "            elif comp_type == \"Capacitor\":\n",
        "                admittance = s * value\n",
        "            else:\n",
        "                raise ValueError(f\"Unknown component type: {comp_type}\")\n",
        "\n",
        "            # Update admittance matrix\n",
        "            if n1_idx is not None:\n",
        "                Y[n1_idx, n1_idx] += admittance\n",
        "                if n2_idx is not None:\n",
        "                    Y[n1_idx, n2_idx] -= admittance\n",
        "                    Y[n2_idx, n1_idx] -= admittance\n",
        "            if n2_idx is not None:\n",
        "                Y[n2_idx, n2_idx] += admittance\n",
        "\n",
        "        # Add voltage source to the current vector\n",
        "        pos_idx = node_map[voltage_source[0]] - 1\n",
        "        neg_idx = node_map[voltage_source[1]] - 1\n",
        "        voltage = voltage_source[2]\n",
        "\n",
        "        if pos_idx >= 0:\n",
        "            I[pos_idx] += voltage / s\n",
        "        if neg_idx >= 0:\n",
        "            I[neg_idx] -= voltage / s\n",
        "\n",
        "        # Solve for node voltages in the Laplace domain\n",
        "        Y_matrix = Matrix(Y)\n",
        "        I_vector = Matrix(I)\n",
        "        V_laplace = simplify(Y_matrix.inv() * I_vector)\n",
        "\n",
        "        # Convert to time domain\n",
        "        t = symbols('t', positive=True)\n",
        "        V_time = [inverse_laplace_transform(v, s, t) for v in V_laplace]\n",
        "\n",
        "        # Display results\n",
        "        results = {nodes[i + 1]: (V_laplace[i], V_time[i]) for i in range(node_count)}\n",
        "        for node, (v_lap, v_time) in results.items():\n",
        "            print(f\"Node {node}:\")\n",
        "            print(f\"  Voltage (Laplace): {v_lap}\")\n",
        "            print(f\"  Voltage (Time): {v_time}\")\n",
        "\n",
        "        # Plot results (example: node voltages over time)\n",
        "        plt.figure(figsize=(10, 6))\n",
        "        for i, v_time in enumerate(V_time, 1):\n",
        "            v_func = lambdify(t, v_time, 'numpy')\n",
        "            t_vals = np.linspace(0, 5, 1000)\n",
        "            v_vals = v_func(t_vals)\n",
        "            plt.plot(t_vals, v_vals, label=f\"Node {nodes[i]} Voltage\")\n",
        "\n",
        "        plt.title(\"Node Voltages Over Time\")\n",
        "        plt.xlabel(\"Time (s)\")\n",
        "        plt.ylabel(\"Voltage (V)\")\n",
        "        plt.grid()\n",
        "        plt.legend()\n",
        "        plt.show()\n",
        "\n",
        "    except Exception as e:\n",
        "        messagebox.showerror(\"Error\", str(e))"
      ]
    },
    {
      "cell_type": "code",
      "execution_count": null,
      "id": "288a74e4-2923-4870-aadd-52e4fa4b1acc",
      "metadata": {
        "id": "288a74e4-2923-4870-aadd-52e4fa4b1acc"
      },
      "outputs": [],
      "source": [
        "# GUI Setup (unchanged from your original code)\n",
        "root = tk.Tk()\n",
        "root.title(\"RLC Circuit Simulator\")\n",
        "\n",
        "tk.Label(root, text=\"Component Type:\").grid(row=0, column=0, padx=5, pady=5)\n",
        "component_type_var = tk.StringVar(value=\"Resistor\")\n",
        "component_type_menu = ttk.Combobox(root, textvariable=component_type_var)\n",
        "component_type_menu[\"values\"] = (\"Resistor\", \"Inductor\", \"Capacitor\")\n",
        "component_type_menu.grid(row=0, column=1, padx=5, pady=5)\n",
        "\n",
        "tk.Label(root, text=\"Value:\").grid(row=1, column=0, padx=5, pady=5)\n",
        "component_value_var = tk.StringVar()\n",
        "tk.Entry(root, textvariable=component_value_var).grid(row=1, column=1, padx=5, pady=5)\n",
        "\n",
        "tk.Label(root, text=\"Start Node:\").grid(row=2, column=0, padx=5, pady=5)\n",
        "start_node_var = tk.StringVar(value=\"1\")\n",
        "tk.Entry(root, textvariable=start_node_var).grid(row=2, column=1, padx=5, pady=5)\n",
        "\n",
        "tk.Label(root, text=\"End Node:\").grid(row=3, column=0, padx=5, pady=5)\n",
        "end_node_var = tk.StringVar(value=\"2\")\n",
        "tk.Entry(root, textvariable=end_node_var).grid(row=3, column=1, padx=5, pady=5)\n",
        "\n",
        "tk.Button(root, text=\"Add Component\", command=add_component).grid(row=4, column=0, columnspan=2, pady=5)\n",
        "\n",
        "component_listbox = tk.Listbox(root, height=10, width=50)\n",
        "component_listbox.grid(row=5, column=0, columnspan=2, pady=5)\n",
        "\n",
        "tk.Label(root, text=\"Voltage Source: Positive Node\").grid(row=6, column=0, padx=5, pady=5)\n",
        "entry_positive_voltage_node = tk.Entry(root)\n",
        "entry_positive_voltage_node.grid(row=6, column=1, padx=5, pady=5)\n",
        "\n",
        "tk.Label(root, text=\"Negative Node\").grid(row=7, column=0, padx=5, pady=5)\n",
        "entry_negative_voltage_node = tk.Entry(root)\n",
        "entry_negative_voltage_node.grid(row=7, column=1, padx=5, pady=5)\n",
        "\n",
        "tk.Label(root, text=\"Voltage Value (V)\").grid(row=8, column=0, padx=5, pady=5)\n",
        "entry_voltage_value = tk.Entry(root)\n",
        "entry_voltage_value.grid(row=8, column=1, padx=5, pady=5)\n",
        "\n",
        "tk.Button(root, text=\"Set Voltage Source\", command=set_voltage_source).grid(row=9, column=0, columnspan=2, pady=5)\n",
        "\n",
        "tk.Button(root, text=\"Solve Circuit\", command=solve_laplace).grid(row=10, column=0, columnspan=2, pady=10)\n",
        "\n",
        "root.mainloop()"
      ]
    },
    {
      "cell_type": "code",
      "execution_count": null,
      "id": "0dc88bd4-1b51-44fb-8cf1-1c14464ed4e1",
      "metadata": {
        "id": "0dc88bd4-1b51-44fb-8cf1-1c14464ed4e1"
      },
      "outputs": [],
      "source": []
    }
  ],
  "metadata": {
    "kernelspec": {
      "display_name": "Python 3 (ipykernel)",
      "language": "python",
      "name": "python3"
    },
    "language_info": {
      "codemirror_mode": {
        "name": "ipython",
        "version": 3
      },
      "file_extension": ".py",
      "mimetype": "text/x-python",
      "name": "python",
      "nbconvert_exporter": "python",
      "pygments_lexer": "ipython3",
      "version": "3.11.7"
    },
    "colab": {
      "provenance": [],
      "include_colab_link": true
    }
  },
  "nbformat": 4,
  "nbformat_minor": 5
}